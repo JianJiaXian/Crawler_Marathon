{
 "cells": [
  {
   "cell_type": "markdown",
   "metadata": {},
   "source": [
    "# Python 下載CSV檔案與解析\n",
    "\n",
    "\n",
    "* 了解 csv 檔案格式與內容\n",
    "* 能夠利用套件存取 csv 格式的檔案\n",
    "\n"
   ]
  },
  {
   "cell_type": "markdown",
   "metadata": {},
   "source": [
    "## 下載檔案"
   ]
  },
  {
   "cell_type": "code",
   "execution_count": 13,
   "metadata": {
    "scrolled": true
   },
   "outputs": [
    {
     "data": {
      "text/plain": [
       "('./data/example.csv', <http.client.HTTPMessage at 0x17c47a6a608>)"
      ]
     },
     "execution_count": 13,
     "metadata": {},
     "output_type": "execute_result"
    }
   ],
   "source": [
    "import urllib.request\n",
    "\n",
    "res = \"https://opendata.hccg.gov.tw/OpenDataFileHit.ashx?ID=5577DDFD025DD2C4&u=77DFE16E459DFCE30371C36CCE30AFF2620C9FA93F99248767110C1E4071F137C5FBEE507EBE009F2A6AFAF641DA977A1A026357FB36A60CA400299B05DF6AB3A58EFB48AC3EAF7F116610461452EBAE27E38F3FF298066B75AE69B7CF7107070075BFF8CB46BC34\"\n",
    "urllib.request.urlretrieve(res, './data/example.csv')\n",
    "\n"
   ]
  },
  {
   "cell_type": "code",
   "execution_count": 14,
   "metadata": {},
   "outputs": [
    {
     "name": "stdout",
     "output_type": "stream",
     "text": [
      "example.csv\n"
     ]
    }
   ],
   "source": [
    "import os, sys\n",
    "\n",
    "# 打开文件\n",
    "dirs = os.listdir( './data' )\n",
    "\n",
    "# 输出所有文件和文件夹\n",
    "for file in dirs:\n",
    "    print(file)"
   ]
  },
  {
   "cell_type": "markdown",
   "metadata": {},
   "source": [
    "## File I/O\n"
   ]
  },
  {
   "cell_type": "code",
   "execution_count": 16,
   "metadata": {},
   "outputs": [
    {
     "name": "stdout",
     "output_type": "stream",
     "text": [
      "﻿年度,月份,現金門票收入,多卡通門票收入,門票收入合計,當月購票入園人數\n",
      "\"111\",\"1月\",\"730425\",\"913430\",\"1643855\",\"50167\"\n",
      "\"111\",\"2月\",\"843940\",\"885590\",\"1729530\",\"76987\"\n",
      "\"111\",\"3月\",\"1004910\",\"1831470\",\"2836380\",\"64563\"\n",
      "\"111\",\"4月\",\"758500\",\"850795\",\"1609295\",\"58969\"\n",
      "\"111\",\"5月\",\"305775\",\"633316\",\"939091\",\"30370\"\n",
      "\"111\",\"6月\",\"668210\",\"729535\",\"1397745\",\"38526\"\n",
      "\"111\",\"7月\",\"1077790\",\"996400\",\"2074190\",\"67871\"\n",
      "\"111\",\"8月\",\"1285465\",\"1182725\",\"2468190\",\"65530\"\n",
      "\"111\",\"9月\",\"624490\",\"775535\",\"1400025\",\"45689\"\n",
      "\"111\",\"10月\",\"796830\",\"873605\",\"1670435\",\"58242\"\n",
      "\"111\",\"11月\",\"1120925\",\"1139515\",\"2260440\",\"59431\"\n",
      "\"111\",\"12月\",\"844165\",\"923660\",\"1767825\",\"49222\"\n"
     ]
    }
   ],
   "source": [
    "fh = open(\"./data/example.csv\",encoding=\"utf-8\")\n",
    "f = fh.read()\n",
    "\n",
    "print(f)\n",
    "fh.close()\n"
   ]
  },
  {
   "cell_type": "markdown",
   "metadata": {},
   "source": [
    "## CSV Reader\n"
   ]
  },
  {
   "cell_type": "code",
   "execution_count": 18,
   "metadata": {},
   "outputs": [
    {
     "name": "stdout",
     "output_type": "stream",
     "text": [
      "['\\ufeff年度', '月份', '現金門票收入', '多卡通門票收入', '門票收入合計', '當月購票入園人數']\n",
      "['111', '1月', '730425', '913430', '1643855', '50167']\n",
      "['111', '2月', '843940', '885590', '1729530', '76987']\n",
      "['111', '3月', '1004910', '1831470', '2836380', '64563']\n",
      "['111', '4月', '758500', '850795', '1609295', '58969']\n",
      "['111', '5月', '305775', '633316', '939091', '30370']\n",
      "['111', '6月', '668210', '729535', '1397745', '38526']\n",
      "['111', '7月', '1077790', '996400', '2074190', '67871']\n",
      "['111', '8月', '1285465', '1182725', '2468190', '65530']\n",
      "['111', '9月', '624490', '775535', '1400025', '45689']\n",
      "['111', '10月', '796830', '873605', '1670435', '58242']\n",
      "['111', '11月', '1120925', '1139515', '2260440', '59431']\n",
      "['111', '12月', '844165', '923660', '1767825', '49222']\n"
     ]
    }
   ],
   "source": [
    "import csv\n",
    "\n",
    "# 開啟 CSV 檔案\n",
    "with open('./data/example.csv', newline='',encoding=\"utf-8\") as csvfile:\n",
    "    # 讀取 CSV 檔案內容\n",
    "    rows = csv.reader(csvfile)\n",
    "    # 以迴圈輸出每一列\n",
    "    for row in rows:\n",
    "        print(row)"
   ]
  },
  {
   "cell_type": "markdown",
   "metadata": {},
   "source": [
    "## 作業目標\n",
    "\n",
    "* 比較一下範例檔案中的「File I/O」與「CSV Reader」讀出來的內容有什麼差異\n",
    "\n",
    "\n",
    "* 根據範例檔案的結果：\n",
    "1. 取出班次一的每一個時間\n",
    "2. 將班次一的每一個時間用一種資料型態保存\n",
    "3. 將班次一到五與其所有時間用一種資料型態個別保存\n"
   ]
  },
  {
   "cell_type": "code",
   "execution_count": 29,
   "metadata": {},
   "outputs": [
    {
     "name": "stdout",
     "output_type": "stream",
     "text": [
      "50167\n",
      "50167\n",
      "1月:50167\n",
      "2月:76987\n",
      "3月:64563\n",
      "4月:58969\n",
      "5月:30370\n"
     ]
    }
   ],
   "source": [
    "import csv\n",
    "file=[]\n",
    "# 開啟 CSV 檔案\n",
    "with open('./data/example.csv', newline='',encoding=\"utf-8\") as csvfile:\n",
    "    # 讀取 CSV 檔案內容\n",
    "    rows = csv.reader(csvfile)\n",
    "    # 以迴圈輸出每一列\n",
    "    for row in rows:\n",
    "        file.append(row)\n",
    "print(file[1][-1])\n",
    "print(file[1][-1])\n",
    "for i in range(5):\n",
    "    i=i+1\n",
    "    print(str(i)+\"月:\"+str(file[i][-1]))"
   ]
  },
  {
   "cell_type": "code",
   "execution_count": null,
   "metadata": {},
   "outputs": [],
   "source": []
  }
 ],
 "metadata": {
  "kernelspec": {
   "display_name": "Python 3 (ipykernel)",
   "language": "python",
   "name": "python3"
  },
  "language_info": {
   "codemirror_mode": {
    "name": "ipython",
    "version": 3
   },
   "file_extension": ".py",
   "mimetype": "text/x-python",
   "name": "python",
   "nbconvert_exporter": "python",
   "pygments_lexer": "ipython3",
   "version": "3.7.11"
  }
 },
 "nbformat": 4,
 "nbformat_minor": 2
}
